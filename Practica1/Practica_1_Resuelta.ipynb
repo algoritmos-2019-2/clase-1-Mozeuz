{
 "cells": [
  {
   "cell_type": "code",
   "execution_count": 5,
   "metadata": {},
   "outputs": [
    {
     "name": "stdout",
     "output_type": "stream",
     "text": [
      "Para A y B\n",
      "A ^ B\n",
      "True ^ True = True\n",
      "True ^ False = False\n",
      "False ^ True = False\n",
      "False ^ False = False\n"
     ]
    }
   ],
   "source": [
    "print (\"Para A y B\")\n",
    "print (\"A ^ B\")\n",
    "\n",
    "A = [True, False]\n",
    "B = [True, False]\n",
    "for a in A :\n",
    "    for b in B :\n",
    "        c = a and b\n",
    "        print (str(a)+ \" ^ \" + str(b) + \" = \" + str(c))\n",
    "    \n",
    "    "
   ]
  },
  {
   "cell_type": "code",
   "execution_count": 6,
   "metadata": {},
   "outputs": [
    {
     "name": "stdout",
     "output_type": "stream",
     "text": [
      "Para A y B\n",
      "A v B\n",
      "True v True = True\n",
      "True v False = True\n",
      "False v True = True\n",
      "False v False = False\n"
     ]
    }
   ],
   "source": [
    "print (\"Para A y B\")\n",
    "print (\"A v B\")\n",
    "\n",
    "A = [True, False]\n",
    "B = [True, False]\n",
    "for a in A :\n",
    "    for b in B :\n",
    "        c = a or b\n",
    "        print (str(a)+ \" v \" + str(b) + \" = \" + str(c))\n",
    "    "
   ]
  },
  {
   "cell_type": "code",
   "execution_count": 13,
   "metadata": {},
   "outputs": [
    {
     "name": "stdout",
     "output_type": "stream",
     "text": [
      "Para A\n",
      "Not A\n",
      "si A es True entonces Not A es False\n",
      "si A es False entonces Not A es True\n"
     ]
    }
   ],
   "source": [
    "print (\"Para A\")\n",
    "print (\"Not A\")\n",
    "\n",
    "A = [True, False]\n",
    "for a in A :\n",
    "        c = not a\n",
    "        print (\"si A es \" + str(a) + \" entonces Not A es \" + str(c))\n",
    "    "
   ]
  },
  {
   "cell_type": "code",
   "execution_count": 15,
   "metadata": {},
   "outputs": [
    {
     "name": "stdout",
     "output_type": "stream",
     "text": [
      "Para A\n",
      "Not A\n",
      "si B es True entonces Not B es False\n",
      "si B es False entonces Not B es True\n"
     ]
    }
   ],
   "source": [
    "print (\"Para A\")\n",
    "print (\"Not A\")\n",
    "\n",
    "B = [True, False]\n",
    "for b in B :\n",
    "        c = not b\n",
    "        print (\"si B es \" + str(b) + \" entonces Not B es \" + str(c))"
   ]
  },
  {
   "cell_type": "code",
   "execution_count": null,
   "metadata": {},
   "outputs": [],
   "source": []
  }
 ],
 "metadata": {
  "kernelspec": {
   "display_name": "Python 3",
   "language": "python",
   "name": "python3"
  },
  "language_info": {
   "codemirror_mode": {
    "name": "ipython",
    "version": 3
   },
   "file_extension": ".py",
   "mimetype": "text/x-python",
   "name": "python",
   "nbconvert_exporter": "python",
   "pygments_lexer": "ipython3",
   "version": "3.7.1"
  }
 },
 "nbformat": 4,
 "nbformat_minor": 2
}
